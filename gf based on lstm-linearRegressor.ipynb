{
 "cells": [
  {
   "cell_type": "code",
   "execution_count": 1,
   "id": "eb46cc2e",
   "metadata": {},
   "outputs": [],
   "source": [
    "import numpy as np\n",
    "import pandas as pd\n",
    "import sklearn\n",
    "from matplotlib import pyplot as plt\n",
    "from tensorflow.keras.models import Sequential\n",
    "from tensorflow.keras.layers import LSTM\n",
    "from tensorflow.keras.layers import Dense, Dropout\n",
    "from sklearn.preprocessing import MinMaxScaler\n",
    "from keras.wrappers.scikit_learn import KerasRegressor\n",
    "from sklearn.model_selection import GridSearchCV\n",
    "import tensorflow as tf"
   ]
  },
  {
   "cell_type": "code",
   "execution_count": 2,
   "id": "c68a1b04",
   "metadata": {},
   "outputs": [],
   "source": [
    "time_step=30"
   ]
  },
  {
   "cell_type": "code",
   "execution_count": 3,
   "id": "e6f23a1b",
   "metadata": {},
   "outputs": [],
   "source": [
    "# 预处理输入数据\n",
    "def preprocessing(nmp_df,power_df):\n",
    "    nmp_df.head(10)\n",
    "    power_df.head(10)\n",
    "    fix_df=pd.merge(nmp_df, power_df, on=['Datetime'], how='left')\n",
    "    fix_df.head(10)\n",
    "    fix_df.describe()\n",
    "    return fix_df"
   ]
  },
  {
   "cell_type": "code",
   "execution_count": 4,
   "id": "a0fb407e",
   "metadata": {},
   "outputs": [],
   "source": [
    "# 补全缺失数据\n",
    "def fix_zero(df,index):\n",
    "    df[index]=df[index].replace(0.00, np.NaN)\n",
    "    df[index]=df[index].fillna(df[index].median())\n",
    "    return df"
   ]
  },
  {
   "cell_type": "code",
   "execution_count": 5,
   "id": "ffbac4aa",
   "metadata": {},
   "outputs": [],
   "source": [
    "# 读取数据\n",
    "his_nmp_gf_df = pd.read_csv('.\\\\data\\\\GF001\\\\03 His_NWP_GF.csv',parse_dates=[\"Datetime\"],index_col=[0])\n",
    "his_power_gf_df = pd.read_csv('.\\\\data\\\\GF001\\\\02 His_Power_GF.csv',parse_dates=[\"Datetime\"],index_col=[0])\n",
    "his_gf_df=preprocessing(his_nmp_gf_df,his_power_gf_df)\n",
    "his_gf_df.to_csv('his_gf.csv',encoding = 'utf-8') #存储合并后数据"
   ]
  },
  {
   "cell_type": "code",
   "execution_count": 6,
   "id": "a0cd736a",
   "metadata": {},
   "outputs": [],
   "source": [
    "df=pd.read_csv('his_gf.csv',parse_dates=[\"Datetime\"],index_col=[0])"
   ]
  },
  {
   "cell_type": "code",
   "execution_count": 7,
   "id": "8d028383",
   "metadata": {},
   "outputs": [],
   "source": [
    "df=fix_zero(df,'Humidity')"
   ]
  },
  {
   "cell_type": "code",
   "execution_count": 8,
   "id": "a180f5ea",
   "metadata": {},
   "outputs": [],
   "source": [
    "df_feaformm=pd.read_csv('.\\\\data\\\\GF001\\\\04 Fore_NWP_GF.csv',parse_dates=[\"Datetime\"],index_col=[0])\n",
    "df_feaformm[\"Power(MW)\"]=np.NaN\n",
    "df_feaformm=fix_zero(df_feaformm,'Humidity')"
   ]
  },
  {
   "cell_type": "code",
   "execution_count": 9,
   "id": "0804a838",
   "metadata": {},
   "outputs": [],
   "source": [
    "# 划分train valid test集\n",
    "gf_df_train = df[:int(0.6*len(df))]\n",
    "gf_df_valid = df[int(0.6*len(df))-time_step:int(0.8*len(df))]\n",
    "gf_df_test =df[int(0.8*len(df))-time_step:]"
   ]
  },
  {
   "cell_type": "code",
   "execution_count": 10,
   "id": "6185b508",
   "metadata": {},
   "outputs": [
    {
     "data": {
      "text/plain": [
       "(165, 7)"
      ]
     },
     "execution_count": 10,
     "metadata": {},
     "output_type": "execute_result"
    }
   ],
   "source": [
    "gf_df_test.shape"
   ]
  },
  {
   "cell_type": "code",
   "execution_count": 11,
   "id": "01cb73ce",
   "metadata": {},
   "outputs": [],
   "source": [
    "gf_df_test_copy=gf_df_test.copy()\n"
   ]
  },
  {
   "cell_type": "code",
   "execution_count": 12,
   "id": "a6e1c066",
   "metadata": {},
   "outputs": [],
   "source": [
    "# 定义一个新的归一化函数\n",
    "def simla(stand_df,df):\n",
    "    train_median1=stand_df['Irradiance'].median()\n",
    "#     print('Irradiance',train_median1)\n",
    "    train_median2=stand_df['Speed10'].median()\n",
    "#     print('Speed10',train_median2)\n",
    "    train_median3=stand_df['Direction10'].median()\n",
    "#     print('Direction10',train_median3)\n",
    "    train_median4=stand_df['Temper'].median()\n",
    "#     print('Temper',train_median4)\n",
    "    train_median6=stand_df['Humidity'].median()\n",
    "#     print('Humidity',train_median6)\n",
    "    train_median5=stand_df['Pressure'].median()\n",
    "#     print('Pressure',train_median5)\n",
    "    train_median7=stand_df['Power(MW)'].median()\n",
    "#     print('Power(MW)',train_median7)\n",
    "    df_copy=df.copy()\n",
    "    df_copy['Irradiance']=df['Irradiance']/train_median1\n",
    "    df_copy['Speed10']=df['Speed10']/train_median2\n",
    "    df_copy['Direction10']=df['Direction10']/train_median3\n",
    "    df_copy['Temper']=df['Temper']/train_median4\n",
    "    df_copy['Humidity']=df['Humidity']/train_median6\n",
    "    df_copy['Pressure']=df['Pressure']/train_median5\n",
    "    df_copy['Power(MW)']=df['Power(MW)']/33\n",
    "    return df_copy"
   ]
  },
  {
   "cell_type": "code",
   "execution_count": 13,
   "id": "9bcdb6ff",
   "metadata": {},
   "outputs": [],
   "source": [
    "# 定义一个反归一化函数\n",
    "def Denormalization(stand_df,df):\n",
    "    train_median=stand_df['Power(MW)'].median()\n",
    "#     print('Power(MW)',train_median)\n",
    "    df_copy=df.copy()\n",
    "    df_copy=df*33\n",
    "    return df_copy"
   ]
  },
  {
   "cell_type": "code",
   "execution_count": 14,
   "id": "8a44b48b",
   "metadata": {},
   "outputs": [],
   "source": [
    "df_for_training_scaled = simla(df,gf_df_train).values\n",
    "df_for_validing_scaled=simla(df,gf_df_valid).values\n",
    "df_for_testing_scaled=simla(df,gf_df_test).values"
   ]
  },
  {
   "cell_type": "code",
   "execution_count": 15,
   "id": "5e3af1bb",
   "metadata": {},
   "outputs": [],
   "source": [
    "# 分离x与y\n",
    "def createXY(array, days_used_to_train=30):\n",
    "    features = list()\n",
    "    labels = list()\n",
    "\n",
    "    for i in range(days_used_to_train, len(array)):\n",
    "        features.append(array[i-days_used_to_train:i, :])\n",
    "        labels.append(array[i, -1])\n",
    "    return np.array(features), np.array(labels)\n",
    "\n",
    "train_X,train_y=createXY(df_for_training_scaled)\n",
    "valid_X,valid_y=createXY(df_for_validing_scaled)\n",
    "test_X,test_y=createXY(df_for_testing_scaled)"
   ]
  },
  {
   "cell_type": "code",
   "execution_count": 16,
   "id": "1154c314",
   "metadata": {
    "scrolled": false
   },
   "outputs": [
    {
     "data": {
      "text/plain": [
       "[<matplotlib.lines.Line2D at 0x1ca907d8100>]"
      ]
     },
     "execution_count": 16,
     "metadata": {},
     "output_type": "execute_result"
    },
    {
     "data": {
      "image/png": "[encoded data removed]",
      "text/plain": [
       "<Figure size 432x288 with 1 Axes>"
      ]
     },
     "metadata": {
      "needs_background": "light"
     },
     "output_type": "display_data"
    }
   ],
   "source": [
    "# 看一下历史波形\n",
    "plt.plot(range(len(df['Power(MW)'])), df['Power(MW)'], label='history')"
   ]
  },
  {
   "cell_type": "code",
   "execution_count": 17,
   "id": "8f34c385",
   "metadata": {},
   "outputs": [],
   "source": [
    "# 定义一个新的评价函数\n",
    "def ev(y_true, y_predict):\n",
    "    difference=(abs(np.array(y_true) - np.array(y_predict.flatten()))).sum()\n",
    "    return float(difference) "
   ]
  },
  {
   "cell_type": "code",
   "execution_count": 18,
   "id": "eb8407e6",
   "metadata": {},
   "outputs": [],
   "source": [
    "# 建立模型函数\n",
    "def build_model(size):\n",
    "    tf.random.set_seed(1) #设置随机数种子\n",
    "    # Create grid_model\n",
    "    grid_model = tf.keras.Sequential()\n",
    "    grid_model.add(tf.keras.layers.LSTM(units=size))\n",
    "#     grid_model.add(tf.keras.layers.Flatten())\n",
    "#     grid_model.add(tf.keras.layers.Dense(size))\n",
    "#     grid_model.add(tf.keras.layers.Dropout(0.2))\n",
    "#     grid_model.add(tf.keras.layers.Dense(size))\n",
    "#     grid_model.add(tf.keras.layers.Dropout(0.2))\n",
    "    grid_model.add(tf.keras.layers.Dense(size))\n",
    "#     grid_model.add(tf.keras.layers.Dropout(0.2))\n",
    "    grid_model.add(tf.keras.layers.Dense(size))\n",
    "#     grid_model.add(tf.keras.layers.Dropout(0.2))\n",
    "    grid_model.add(tf.keras.layers.Dense(1))\n",
    "    # Compile the grid_model\n",
    "    grid_model.compile(\n",
    "    optimizer='adam',\n",
    "    loss='mse')\n",
    "    return grid_model"
   ]
  },
  {
   "cell_type": "code",
   "execution_count": 19,
   "id": "3faf7ab5",
   "metadata": {},
   "outputs": [],
   "source": [
    "# 准备一些copy用用\n",
    "df_for_testing_scaled_forpred=df_for_testing_scaled.copy()\n",
    "df_for_testing_scaled_inloop=df_for_testing_scaled.copy()\n",
    "\n",
    "df_for_testing_scaled_forpred=pd.DataFrame(df_for_testing_scaled_forpred)\n",
    "df_for_testing_scaled_inloop=pd.DataFrame(df_for_testing_scaled_inloop)\n",
    "\n",
    "df_for_testing_scaled_forpred_array=df_for_testing_scaled_forpred.values\n",
    "df_for_testing_scaled_inloop_array=df_for_testing_scaled_inloop.values\n",
    "\n",
    "df_for_testing_scaled_inloop.iloc[time_step:,-1]=np.nan"
   ]
  },
  {
   "cell_type": "code",
   "execution_count": 20,
   "id": "c3a8e97d",
   "metadata": {},
   "outputs": [],
   "source": [
    "# 准备一些copy用用\n",
    "df_for_validing_scaled_forpred=df_for_validing_scaled.copy()\n",
    "df_for_validing_scaled_inloop=df_for_validing_scaled.copy()\n",
    "\n",
    "df_for_validing_scaled_forpred=pd.DataFrame(df_for_validing_scaled_forpred)\n",
    "df_for_validing_scaled_inloop=pd.DataFrame(df_for_validing_scaled_inloop)\n",
    "\n",
    "df_for_validing_scaled_forpred_array=df_for_validing_scaled_forpred.values\n",
    "df_for_validing_scaled_inloop_array=df_for_validing_scaled_inloop.values\n",
    "\n",
    "df_for_validing_scaled_inloop.iloc[time_step:,-1]=np.nan"
   ]
  },
  {
   "cell_type": "code",
   "execution_count": 21,
   "id": "e3228f3c",
   "metadata": {},
   "outputs": [],
   "source": [
    "df_for_testing_scaled_inloop.to_csv('df_for_testing_scaled_inloop.csv',encoding = 'utf-8') #存储合并后数据"
   ]
  },
  {
   "cell_type": "code",
   "execution_count": 22,
   "id": "131dbab4",
   "metadata": {},
   "outputs": [],
   "source": [
    "# 为循环初始化一些数据\n",
    "bestscore=1000\n",
    "idealscore=20\n",
    "flag=0\n",
    "num=0\n",
    "best_size=0\n",
    "best_batch_size=0\n",
    "best_epochs=0\n",
    "time_step=30\n",
    "df_liner=pd.read_csv('df_liner.csv')\n",
    "df_liner_size=[]\n",
    "df_liner_batch_size=[]\n",
    "df_liner_epochs=[]\n",
    "df_liner_score=[]\n",
    "num_loop=0 #记录while_loop次数"
   ]
  },
  {
   "cell_type": "code",
   "execution_count": 23,
   "id": "ffa2599d",
   "metadata": {},
   "outputs": [],
   "source": [
    "# 初始化参数\n",
    "size_score=0\n",
    "size_begin=4\n",
    "size_end=8\n",
    "size_step=(size_end-size_begin)//2"
   ]
  },
  {
   "cell_type": "code",
   "execution_count": 24,
   "id": "3875a2cf",
   "metadata": {},
   "outputs": [],
   "source": [
    "# 初始化参数\n",
    "batch_size_score=0\n",
    "batch_size_begin=7\n",
    "batch_size_end=8\n",
    "batch_size_step=(batch_size_end-batch_size_begin)//1"
   ]
  },
  {
   "cell_type": "code",
   "execution_count": 25,
   "id": "f76ac9a5",
   "metadata": {},
   "outputs": [],
   "source": [
    "# 初始化参数\n",
    "epochs_score=0\n",
    "epochs_begin=10\n",
    "epochs_end=20\n",
    "epochs_step=(epochs_end-epochs_begin)//2"
   ]
  },
  {
   "cell_type": "code",
   "execution_count": 26,
   "id": "ac3095f5",
   "metadata": {},
   "outputs": [
    {
     "data": {
      "text/plain": [
       "[]"
      ]
     },
     "execution_count": 26,
     "metadata": {},
     "output_type": "execute_result"
    }
   ],
   "source": [
    "df_liner_size"
   ]
  },
  {
   "cell_type": "code",
   "execution_count": 27,
   "id": "ecafcaf9",
   "metadata": {},
   "outputs": [
    {
     "data": {
      "text/plain": [
       "Series([], Name: size, dtype: object)"
      ]
     },
     "execution_count": 27,
     "metadata": {},
     "output_type": "execute_result"
    }
   ],
   "source": [
    "df_liner['size']"
   ]
  },
  {
   "cell_type": "code",
   "execution_count": 28,
   "id": "1a1a9700",
   "metadata": {},
   "outputs": [
    {
     "name": "stdout",
     "output_type": "stream",
     "text": [
      "num_loop: 0\n",
      "size|| start: 4 end: 8 step: 2\n",
      "batch_size|| start: 7 end: 8 step: 1\n",
      "epochs|| start: 10 end: 20 step: 5\n"
     ]
    },
    {
     "name": "stderr",
     "output_type": "stream",
     "text": [
      "C:\\Users\\23966\\AppData\\Local\\Temp\\ipykernel_16952\\4085758870.py:97: VisibleDeprecationWarning: Creating an ndarray from ragged nested sequences (which is a list-or-tuple of lists-or-tuples-or ndarrays with different lengths or shapes) is deprecated. If you meant to do this, you must specify 'dtype=object' when creating the ndarray.\n",
      "  score=ev(valid_y,np.array(all_data_valid))\n"
     ]
    },
    {
     "name": "stdout",
     "output_type": "stream",
     "text": [
      "num: 0 score= 27.279590606689453 size= 4 batch_size= 7 epochs= 10\n",
      "27.279590606689453\n"
     ]
    },
    {
     "name": "stderr",
     "output_type": "stream",
     "text": [
      "WARNING:absl:Found untraced functions such as lstm_cell_layer_call_fn, lstm_cell_layer_call_and_return_conditional_losses, lstm_cell_layer_call_fn, lstm_cell_layer_call_and_return_conditional_losses, lstm_cell_layer_call_and_return_conditional_losses while saving (showing 5 of 5). These functions will not be directly callable after loading.\n"
     ]
    },
    {
     "name": "stdout",
     "output_type": "stream",
     "text": [
      "INFO:tensorflow:Assets written to: keras_model_tf_version\\assets\n"
     ]
    },
    {
     "name": "stderr",
     "output_type": "stream",
     "text": [
      "INFO:tensorflow:Assets written to: keras_model_tf_version\\assets\n",
      "WARNING:absl:<keras.layers.recurrent.LSTMCell object at 0x000001CA90BD71F0> has the same name 'LSTMCell' as a built-in Keras object. Consider renaming <class 'keras.layers.recurrent.LSTMCell'> to avoid naming conflicts when loading with `tf.keras.models.load_model`. If renaming is not possible, pass the object in the `custom_objects` parameter of the load function.\n",
      "C:\\Users\\23966\\AppData\\Local\\Temp\\ipykernel_16952\\4085758870.py:97: VisibleDeprecationWarning: Creating an ndarray from ragged nested sequences (which is a list-or-tuple of lists-or-tuples-or ndarrays with different lengths or shapes) is deprecated. If you meant to do this, you must specify 'dtype=object' when creating the ndarray.\n",
      "  score=ev(valid_y,np.array(all_data_valid))\n"
     ]
    },
    {
     "name": "stdout",
     "output_type": "stream",
     "text": [
      "num: 1 score= 32.7397346496582 size= 4 batch_size= 7 epochs= 15\n",
      "num: 2 score= 25.153532028198242 size= 6 batch_size= 7 epochs= 10\n",
      "25.153532028198242\n"
     ]
    },
    {
     "name": "stderr",
     "output_type": "stream",
     "text": [
      "WARNING:absl:Found untraced functions such as lstm_cell_2_layer_call_fn, lstm_cell_2_layer_call_and_return_conditional_losses, lstm_cell_2_layer_call_fn, lstm_cell_2_layer_call_and_return_conditional_losses, lstm_cell_2_layer_call_and_return_conditional_losses while saving (showing 5 of 5). These functions will not be directly callable after loading.\n"
     ]
    },
    {
     "name": "stdout",
     "output_type": "stream",
     "text": [
      "INFO:tensorflow:Assets written to: keras_model_tf_version\\assets\n"
     ]
    },
    {
     "name": "stderr",
     "output_type": "stream",
     "text": [
      "INFO:tensorflow:Assets written to: keras_model_tf_version\\assets\n",
      "WARNING:absl:<keras.layers.recurrent.LSTMCell object at 0x000001CA9C75F370> has the same name 'LSTMCell' as a built-in Keras object. Consider renaming <class 'keras.layers.recurrent.LSTMCell'> to avoid naming conflicts when loading with `tf.keras.models.load_model`. If renaming is not possible, pass the object in the `custom_objects` parameter of the load function.\n",
      "C:\\Users\\23966\\AppData\\Local\\Temp\\ipykernel_16952\\4085758870.py:97: VisibleDeprecationWarning: Creating an ndarray from ragged nested sequences (which is a list-or-tuple of lists-or-tuples-or ndarrays with different lengths or shapes) is deprecated. If you meant to do this, you must specify 'dtype=object' when creating the ndarray.\n",
      "  score=ev(valid_y,np.array(all_data_valid))\n"
     ]
    },
    {
     "name": "stdout",
     "output_type": "stream",
     "text": [
      "num: 3 score= 24.477428436279297 size= 6 batch_size= 7 epochs= 15\n",
      "24.477428436279297\n"
     ]
    },
    {
     "name": "stderr",
     "output_type": "stream",
     "text": [
      "WARNING:absl:Found untraced functions such as lstm_cell_3_layer_call_fn, lstm_cell_3_layer_call_and_return_conditional_losses, lstm_cell_3_layer_call_fn, lstm_cell_3_layer_call_and_return_conditional_losses, lstm_cell_3_layer_call_and_return_conditional_losses while saving (showing 5 of 5). These functions will not be directly callable after loading.\n"
     ]
    },
    {
     "name": "stdout",
     "output_type": "stream",
     "text": [
      "INFO:tensorflow:Assets written to: keras_model_tf_version\\assets\n"
     ]
    },
    {
     "name": "stderr",
     "output_type": "stream",
     "text": [
      "INFO:tensorflow:Assets written to: keras_model_tf_version\\assets\n",
      "WARNING:absl:<keras.layers.recurrent.LSTMCell object at 0x000001CAA0C6BE20> has the same name 'LSTMCell' as a built-in Keras object. Consider renaming <class 'keras.layers.recurrent.LSTMCell'> to avoid naming conflicts when loading with `tf.keras.models.load_model`. If renaming is not possible, pass the object in the `custom_objects` parameter of the load function.\n"
     ]
    },
    {
     "name": "stdout",
     "output_type": "stream",
     "text": [
      "24.477428436279297 best_size= 6 best_batch_size= 7 best_epochs= 15\n",
      "Model intercept:  34.41797685623169\n",
      "Model coefficients:  [-2.5970912   0.          0.47840405]\n",
      "num_loop: 1\n",
      "size|| start: 8 end: 16 step: 4\n",
      "batch_size|| start: 7 end: 8 step: 1\n",
      "epochs|| start: 10 end: 20 step: 5\n"
     ]
    },
    {
     "name": "stderr",
     "output_type": "stream",
     "text": [
      "C:\\Users\\23966\\AppData\\Local\\Temp\\ipykernel_16952\\4085758870.py:97: VisibleDeprecationWarning: Creating an ndarray from ragged nested sequences (which is a list-or-tuple of lists-or-tuples-or ndarrays with different lengths or shapes) is deprecated. If you meant to do this, you must specify 'dtype=object' when creating the ndarray.\n",
      "  score=ev(valid_y,np.array(all_data_valid))\n"
     ]
    },
    {
     "name": "stdout",
     "output_type": "stream",
     "text": [
      "num: 4 score= 26.95136260986328 size= 8 batch_size= 7 epochs= 10\n",
      "num: 5 score= 28.11030387878418 size= 8 batch_size= 7 epochs= 15\n",
      "num: 6 score= 67.89914164945321 size= 12 batch_size= 7 epochs= 10\n",
      "num: 7 score= 55.090587910570875 size= 12 batch_size= 7 epochs= 15\n",
      "24.477428436279297 best_size= 6 best_batch_size= 7 best_epochs= 15\n",
      "Model intercept:  -25.8352142396011\n",
      "Model coefficients:  [ 8.49100788  0.         -1.16496125]\n",
      "num_loop: 2\n",
      "size|| start: 4 end: 8 step: 2\n",
      "batch_size|| start: 7 end: 8 step: 1\n",
      "epochs|| start: 10 end: 20 step: 5\n"
     ]
    },
    {
     "name": "stderr",
     "output_type": "stream",
     "text": [
      "C:\\Users\\23966\\AppData\\Local\\Temp\\ipykernel_16952\\4085758870.py:97: VisibleDeprecationWarning: Creating an ndarray from ragged nested sequences (which is a list-or-tuple of lists-or-tuples-or ndarrays with different lengths or shapes) is deprecated. If you meant to do this, you must specify 'dtype=object' when creating the ndarray.\n",
      "  score=ev(valid_y,np.array(all_data_valid))\n"
     ]
    },
    {
     "name": "stdout",
     "output_type": "stream",
     "text": [
      "num: 8 score= 27.279590606689453 size= 4 batch_size= 7 epochs= 10\n",
      "num: 9 score= 32.7397346496582 size= 4 batch_size= 7 epochs= 15\n",
      "num: 10 score= 25.153532028198242 size= 6 batch_size= 7 epochs= 10\n",
      "num: 11 score= 24.477428436279297 size= 6 batch_size= 7 epochs= 15\n",
      "24.477428436279297 best_size= 6 best_batch_size= 7 best_epochs= 15\n",
      "Model intercept:  34.41797685623169\n",
      "Model coefficients:  [-2.5970912   0.          0.47840405]\n",
      "num_loop: 3\n",
      "size|| start: 8 end: 16 step: 4\n",
      "batch_size|| start: 7 end: 8 step: 1\n",
      "epochs|| start: 10 end: 20 step: 5\n"
     ]
    },
    {
     "name": "stderr",
     "output_type": "stream",
     "text": [
      "C:\\Users\\23966\\AppData\\Local\\Temp\\ipykernel_16952\\4085758870.py:97: VisibleDeprecationWarning: Creating an ndarray from ragged nested sequences (which is a list-or-tuple of lists-or-tuples-or ndarrays with different lengths or shapes) is deprecated. If you meant to do this, you must specify 'dtype=object' when creating the ndarray.\n",
      "  score=ev(valid_y,np.array(all_data_valid))\n"
     ]
    },
    {
     "name": "stdout",
     "output_type": "stream",
     "text": [
      "num: 12 score= 26.95136260986328 size= 8 batch_size= 7 epochs= 10\n",
      "num: 13 score= 28.11030387878418 size= 8 batch_size= 7 epochs= 15\n",
      "num: 14 score= 67.89914164945321 size= 12 batch_size= 7 epochs= 10\n",
      "num: 15 score= 55.090587910570875 size= 12 batch_size= 7 epochs= 15\n",
      "24.477428436279297 best_size= 6 best_batch_size= 7 best_epochs= 15\n",
      "Model intercept:  -25.8352142396011\n",
      "Model coefficients:  [ 8.49100788  0.         -1.16496125]\n"
     ]
    }
   ],
   "source": [
    "while bestscore>=idealscore:\n",
    "    \n",
    "    #清空数据表\n",
    "    df_liner_size=[]\n",
    "    df_liner_batch_size=[]\n",
    "    df_liner_epochs=[]\n",
    "    df_liner_score=[]\n",
    "    \n",
    "    df_liner=pd.read_csv('df_liner.csv')\n",
    "    df_liner['size']=df_liner_size\n",
    "    df_liner['batch_size']=df_liner_batch_size\n",
    "    df_liner['epochs']=df_liner_epochs\n",
    "    df_liner['score']=df_liner_score\n",
    "    \n",
    "    #更新range范围\n",
    "    if num_loop>0:\n",
    "        size_score=reg.coef_[0]\n",
    "        if size_score==0:\n",
    "            size_begin=size_begin\n",
    "            size_end=size_end\n",
    "        elif size_score>0:\n",
    "                size_begin=size_begin//2\n",
    "                size_end=size_end//2\n",
    "        elif size_score<0:\n",
    "                size_begin=size_begin*2\n",
    "                size_end=size_end*2\n",
    "        size_step=(size_end-size_begin)//2\n",
    "        if size_step<=0:\n",
    "            size_step=1\n",
    "\n",
    "        batch_size_score=reg.coef_[1]\n",
    "        if batch_size_score==0:\n",
    "            batch_size_begin=batch_size_begin\n",
    "            batch_size_end=batch_size_end\n",
    "        elif batch_size_score>0:\n",
    "            batch_size_begin=batch_size_begin//2\n",
    "            batch_size_end=batch_size_end//2\n",
    "        elif batch_size_score<0:\n",
    "            batch_size_begin=batch_size_begin*2\n",
    "            batch_size_end=batch_size_end*2\n",
    "        batch_size_step=(batch_size_end-batch_size_begin)//2\n",
    "        if batch_size_step<=0:\n",
    "            batch_size_step=1\n",
    "\n",
    "        epochs_score==reg.coef_[2]\n",
    "        if epochs_score==0:\n",
    "            epochs_begin=epochs_begin\n",
    "            epochs_end=epochs_end\n",
    "        elif epochs_score>0:\n",
    "            epochs_begin=epochs_begin//2\n",
    "            epochs_end=epochs_end//2\n",
    "        elif epochs_score<0:\n",
    "            epochs_begin=epochs_begin*2\n",
    "            epochs_end=epochs_end*2\n",
    "        epochs_step=(epochs_end-epochs_begin)//2\n",
    "        if epochs_step<=0:\n",
    "            epochs_step=1\n",
    "            \n",
    "    print('num_loop:',num_loop)       \n",
    "    print('size||','start:',size_begin,'end:',size_end,'step:',size_step)\n",
    "    print('batch_size||','start:',batch_size_begin,'end:',batch_size_end,'step:',batch_size_step)\n",
    "    print('epochs||','start:',epochs_begin,'end:',epochs_end,'step:',epochs_step)\n",
    "\n",
    "            \n",
    "            \n",
    "        \n",
    "    # 开始循环（warning不影响做）\n",
    "    for size in range(size_begin,size_end,size_step):\n",
    "        for batch_size in range(batch_size_begin,batch_size_end,batch_size_step):\n",
    "            for epochs in range(epochs_begin,epochs_end,epochs_step):\n",
    "                df_liner_size.append(size)\n",
    "                df_liner_epochs.append(epochs)\n",
    "                df_liner_batch_size.append(batch_size)\n",
    "    #             df_liner=pd.DataFrame(df_liner)['size'].append(pd.DataFrame(size))\n",
    "\n",
    "                grid_model=build_model(size)\n",
    "                grid_model.fit(\n",
    "                train_X, train_y,\n",
    "                validation_data=(valid_X, valid_y),\n",
    "                batch_size=batch_size,\n",
    "                epochs=epochs,\n",
    "                verbose=0)\n",
    "                all_data_test=[]\n",
    "                all_data_valid=[]\n",
    "    # 此处用了和feature一样的逐点预测方法\n",
    "\n",
    "                for i in range (time_step,len(df_for_validing_scaled_inloop_array)) :\n",
    "                     data_x=[]\n",
    "                     data_x.append( df_for_validing_scaled_inloop_array[i-time_step :i , 0:df_for_validing_scaled_inloop.shape[1]])\n",
    "                     data_x=np.array(data_x)\n",
    "                     prediction=grid_model.predict(data_x,verbose=0)\n",
    "                     if prediction<0:\n",
    "                        prediction=0\n",
    "                     all_data_valid.append(prediction)\n",
    "                     df_for_validing_scaled_inloop.iloc[i,-1]=prediction\n",
    "\n",
    "                score=ev(valid_y,np.array(all_data_valid))\n",
    "                df_liner_score.append(score)\n",
    "                print('num:',num,'score=',score,'size=',size,'batch_size=',batch_size,'epochs=',epochs,)\n",
    "                num=num+1\n",
    "                if score<bestscore:\n",
    "                    flag=1\n",
    "                    bestscore=score\n",
    "                    print(bestscore)\n",
    "                    best_size=size\n",
    "                    best_batch_size=batch_size\n",
    "                    best_epochs=epochs\n",
    "                    # Export the model to a SavedModel\n",
    "                    grid_model.save('keras_model_tf_version', save_format='tf')\n",
    "    print(bestscore,'best_size=',best_size,'best_batch_size=',best_batch_size,'best_epochs=',best_epochs)\n",
    "    num_loop=num_loop+1\n",
    "    # 记录参数\n",
    "    df_liner['size']=df_liner_size\n",
    "    df_liner['batch_size']=df_liner_batch_size\n",
    "    df_liner['epochs']=df_liner_epochs\n",
    "    df_liner['score']=df_liner_score\n",
    "    df_liner.to_csv('liner.csv',index=0)\n",
    "    df_liner.head()\n",
    "    \n",
    "    # 线性回归\n",
    "    # 分离labels与features\n",
    "    y_train = df_liner['score']\n",
    "    X_train = df_liner.drop(columns=['score'])\n",
    "\n",
    "    # 线性回归模型拟合\n",
    "    from sklearn.linear_model import LinearRegression\n",
    "    reg = LinearRegression()\n",
    "    reg.fit(X_train,y_train)\n",
    "    # %%\n",
    "    # 输出模型参数\n",
    "    print('Model intercept: ', reg.intercept_)\n",
    "    print('Model coefficients: ', reg.coef_)\n",
    "    \n",
    "    \n",
    "    if num_loop>3:\n",
    "        break"
   ]
  },
  {
   "cell_type": "code",
   "execution_count": 29,
   "id": "557dee96",
   "metadata": {},
   "outputs": [],
   "source": [
    "# df_liner['size']=df_liner_size\n",
    "# df_liner['batch_size']=df_liner_batch_size\n",
    "# df_liner['epochs']=df_liner_epochs\n",
    "# df_liner['score']=df_liner_score\n",
    "# df_liner.to_csv('liner.csv',index=0)\n",
    "# df_liner.head()"
   ]
  },
  {
   "cell_type": "code",
   "execution_count": 30,
   "id": "b0b409a2",
   "metadata": {},
   "outputs": [],
   "source": [
    "# # 分离labels与features\n",
    "# y_train = df_liner['score']\n",
    "# X_train = df_liner.drop(columns=['score'])\n",
    "# #  分离train与test\n",
    "# # from sklearn.model_selection import train_test_split\n",
    "# # X_train, X_test, y_train, y_test = train_test_split(X, y, test_size=0, random_state=1)\n",
    "# # print('train_X: {}'.format(np.shape(train_X)))\n",
    "# # print('train_y: {}'.format(np.shape(train_y)))\n",
    "# # print('test_X: {}'.format(np.shape(test_X)))\n",
    "# # print('test_y: {}'.format(np.shape(test_y)))\n",
    "# # 线性回归模型拟合\n",
    "# from sklearn.linear_model import LinearRegression\n",
    "# reg = LinearRegression()\n",
    "# reg.fit(X_train,y_train)\n",
    "# # %%\n",
    "# # 输出模型参数\n",
    "# print('Model intercept: ', reg.intercept_)\n",
    "# print('Model coefficients: ', reg.coef_)"
   ]
  },
  {
   "cell_type": "code",
   "execution_count": 31,
   "id": "f2978f9f",
   "metadata": {},
   "outputs": [
    {
     "name": "stdout",
     "output_type": "stream",
     "text": [
      "8.491007883922078\n",
      "0.0\n",
      "-1.1649612469961437\n"
     ]
    }
   ],
   "source": [
    "print(reg.coef_[0])\n",
    "print(reg.coef_[1])\n",
    "print(reg.coef_[2])"
   ]
  },
  {
   "cell_type": "code",
   "execution_count": 32,
   "id": "b52316f8",
   "metadata": {},
   "outputs": [],
   "source": [
    "# from sklearn import tree\n",
    "# model2_tree = tree.DecisionTreeRegressor()\n",
    "# model2_tree = model2_tree.fit(X_train,y_train)\n",
    "# print('Model intercept: ', reg.intercept_)\n",
    "# print('Model coefficients: ', reg.coef_)"
   ]
  },
  {
   "cell_type": "code",
   "execution_count": 33,
   "id": "4b9f569c",
   "metadata": {},
   "outputs": [],
   "source": [
    "# 加载最佳模型\n",
    "my_model = tf.keras.models.load_model('keras_model_tf_version')"
   ]
  },
  {
   "cell_type": "code",
   "execution_count": 34,
   "id": "ce4208ba",
   "metadata": {},
   "outputs": [
    {
     "name": "stdout",
     "output_type": "stream",
     "text": [
      "37.95875549316406\n"
     ]
    },
    {
     "name": "stderr",
     "output_type": "stream",
     "text": [
      "C:\\Users\\23966\\AppData\\Local\\Temp\\ipykernel_16952\\487485881.py:12: VisibleDeprecationWarning: Creating an ndarray from ragged nested sequences (which is a list-or-tuple of lists-or-tuples-or ndarrays with different lengths or shapes) is deprecated. If you meant to do this, you must specify 'dtype=object' when creating the ndarray.\n",
      "  print(ev(test_y,np.array(all_data_test)))\n",
      "C:\\Users\\23966\\AppData\\Roaming\\Python\\Python39\\site-packages\\numpy\\core\\shape_base.py:65: VisibleDeprecationWarning: Creating an ndarray from ragged nested sequences (which is a list-or-tuple of lists-or-tuples-or ndarrays with different lengths or shapes) is deprecated. If you meant to do this, you must specify 'dtype=object' when creating the ndarray.\n",
      "  ary = asanyarray(ary)\n"
     ]
    },
    {
     "data": {
      "text/plain": [
       "[<matplotlib.lines.Line2D at 0x1ca9ea8fc10>]"
      ]
     },
     "execution_count": 34,
     "metadata": {},
     "output_type": "execute_result"
    },
    {
     "data": {
      "image/png": "[encoded data removed]",
      "text/plain": [
       "<Figure size 432x288 with 1 Axes>"
      ]
     },
     "metadata": {
      "needs_background": "light"
     },
     "output_type": "display_data"
    }
   ],
   "source": [
    "# 用最佳模型预测一下test\n",
    "all_data_test=[]\n",
    "for i in range (time_step,len(df_for_testing_scaled_forpred_array)) :\n",
    "                 data_x=[]\n",
    "                 data_x.append( df_for_testing_scaled_forpred_array[i-time_step :i , 0:df_for_testing_scaled_forpred.shape[1]])\n",
    "                 data_x=np.array(data_x)\n",
    "                 prediction=my_model.predict(data_x,verbose=0)\n",
    "                 if prediction<0:\n",
    "                    prediction=0\n",
    "                 all_data_test.append(prediction)\n",
    "                 df_for_testing_scaled_forpred.iloc[i,-1]=prediction\n",
    "print(ev(test_y,np.array(all_data_test)))\n",
    "# 看看test的结果\n",
    "plt.plot(range(len(all_data_test)), all_data_test, label='Prediction')\n",
    "plt.plot(range(len(test_y)), test_y, label='turth')"
   ]
  },
  {
   "cell_type": "code",
   "execution_count": 35,
   "id": "a63a25cf",
   "metadata": {},
   "outputs": [
    {
     "name": "stderr",
     "output_type": "stream",
     "text": [
      "C:\\Users\\23966\\AppData\\Roaming\\Python\\Python39\\site-packages\\numpy\\core\\shape_base.py:65: VisibleDeprecationWarning: Creating an ndarray from ragged nested sequences (which is a list-or-tuple of lists-or-tuples-or ndarrays with different lengths or shapes) is deprecated. If you meant to do this, you must specify 'dtype=object' when creating the ndarray.\n",
      "  ary = asanyarray(ary)\n"
     ]
    },
    {
     "data": {
      "text/plain": [
       "[<matplotlib.lines.Line2D at 0x1caa4282160>]"
      ]
     },
     "execution_count": 35,
     "metadata": {},
     "output_type": "execute_result"
    },
    {
     "data": {
      "image/png": "[encoded data removed]",
      "text/plain": [
       "<Figure size 432x288 with 1 Axes>"
      ]
     },
     "metadata": {
      "needs_background": "light"
     },
     "output_type": "display_data"
    }
   ],
   "source": [
    "# 用最佳模型预测一下valid\n",
    "all_data_valid=[]\n",
    "for i in range (time_step,len(df_for_validing_scaled_forpred_array)) :\n",
    "                 data_x=[]\n",
    "                 data_x.append( df_for_validing_scaled_forpred_array[i-time_step :i , 0:df_for_validing_scaled_forpred.shape[1]])\n",
    "                 data_x=np.array(data_x)\n",
    "                 prediction=my_model.predict(data_x,verbose=0)\n",
    "                 if prediction<0:\n",
    "                    prediction=0\n",
    "                 all_data_valid.append(prediction)\n",
    "                 df_for_validing_scaled_forpred.iloc[i,-1]=prediction\n",
    "                    # 看看valid的结果\n",
    "plt.plot(range(len(all_data_valid)), all_data_valid, label='Prediction')\n",
    "plt.plot(range(len(valid_y)), valid_y, label='Prediction')"
   ]
  },
  {
   "cell_type": "code",
   "execution_count": 36,
   "id": "622a83fb",
   "metadata": {},
   "outputs": [
    {
     "name": "stdout",
     "output_type": "stream",
     "text": [
      "16.378719048212012\n"
     ]
    },
    {
     "data": {
      "image/png": "[encoded data removed]",
      "text/plain": [
       "<Figure size 432x288 with 1 Axes>"
      ]
     },
     "metadata": {
      "needs_background": "light"
     },
     "output_type": "display_data"
    }
   ],
   "source": [
    "# 查看valid集预测结果\n",
    "pred_valid_y = my_model.predict(valid_X)\n",
    "print(ev(valid_y,pred_valid_y))\n",
    "plt.plot(range(len(pred_valid_y)), pred_valid_y, label='Prediction')\n",
    "plt.plot(range(len(pred_valid_y)), valid_y, label='Ground Truth')\n",
    "plt.fill_between(range(len(pred_valid_y)), pred_valid_y.flatten(), valid_y.flatten(), color='MistyRose',label='error')\n",
    "plt.xlabel('Amount of samples')\n",
    "plt.ylabel('Prediction')\n",
    "plt.legend()\n",
    "plt.show()"
   ]
  },
  {
   "cell_type": "code",
   "execution_count": 37,
   "id": "ff6395a1",
   "metadata": {},
   "outputs": [
    {
     "name": "stdout",
     "output_type": "stream",
     "text": [
      "22.02798972668372\n"
     ]
    },
    {
     "data": {
      "image/png": "[encoded data removed]",
      "text/plain": [
       "<Figure size 432x288 with 1 Axes>"
      ]
     },
     "metadata": {
      "needs_background": "light"
     },
     "output_type": "display_data"
    }
   ],
   "source": [
    "# 查看test集预测结果\n",
    "pred_test_y = my_model.predict(test_X)\n",
    "print(ev(test_y,pred_test_y))\n",
    "plt.plot(range(len(pred_test_y)), pred_test_y, label='Prediction')\n",
    "plt.plot(range(len(pred_test_y)), test_y, label='Ground Truth')\n",
    "plt.fill_between(range(len(pred_test_y)), pred_test_y.flatten(), test_y.flatten(), color='MistyRose',label='error')\n",
    "plt.xlabel('Amount of samples')\n",
    "plt.ylabel('Prediction')\n",
    "plt.legend()\n",
    "plt.show()"
   ]
  },
  {
   "cell_type": "code",
   "execution_count": 38,
   "id": "f91eb857",
   "metadata": {},
   "outputs": [
    {
     "data": {
      "text/html": [
       "<div>\n",
       "<style scoped>\n",
       "    .dataframe tbody tr th:only-of-type {\n",
       "        vertical-align: middle;\n",
       "    }\n",
       "\n",
       "    .dataframe tbody tr th {\n",
       "        vertical-align: top;\n",
       "    }\n",
       "\n",
       "    .dataframe thead th {\n",
       "        text-align: right;\n",
       "    }\n",
       "</style>\n",
       "<table border=\"1\" class=\"dataframe\">\n",
       "  <thead>\n",
       "    <tr style=\"text-align: right;\">\n",
       "      <th></th>\n",
       "      <th>Irradiance</th>\n",
       "      <th>Speed10</th>\n",
       "      <th>Direction10</th>\n",
       "      <th>Temper</th>\n",
       "      <th>Pressure</th>\n",
       "      <th>Humidity</th>\n",
       "      <th>Power(MW)</th>\n",
       "    </tr>\n",
       "    <tr>\n",
       "      <th>Datetime</th>\n",
       "      <th></th>\n",
       "      <th></th>\n",
       "      <th></th>\n",
       "      <th></th>\n",
       "      <th></th>\n",
       "      <th></th>\n",
       "      <th></th>\n",
       "    </tr>\n",
       "  </thead>\n",
       "  <tbody>\n",
       "    <tr>\n",
       "      <th>2022-06-19 22:15:00</th>\n",
       "      <td>0.0</td>\n",
       "      <td>8.9275</td>\n",
       "      <td>5.9149</td>\n",
       "      <td>27.97</td>\n",
       "      <td>996.89</td>\n",
       "      <td>91.540</td>\n",
       "      <td>0.0</td>\n",
       "    </tr>\n",
       "    <tr>\n",
       "      <th>2022-06-19 22:30:00</th>\n",
       "      <td>0.0</td>\n",
       "      <td>8.9770</td>\n",
       "      <td>6.4600</td>\n",
       "      <td>27.96</td>\n",
       "      <td>996.97</td>\n",
       "      <td>91.780</td>\n",
       "      <td>0.0</td>\n",
       "    </tr>\n",
       "    <tr>\n",
       "      <th>2022-06-19 22:45:00</th>\n",
       "      <td>0.0</td>\n",
       "      <td>8.8735</td>\n",
       "      <td>7.3813</td>\n",
       "      <td>27.97</td>\n",
       "      <td>997.04</td>\n",
       "      <td>91.880</td>\n",
       "      <td>0.0</td>\n",
       "    </tr>\n",
       "    <tr>\n",
       "      <th>2022-06-19 23:00:00</th>\n",
       "      <td>0.0</td>\n",
       "      <td>7.6355</td>\n",
       "      <td>357.8234</td>\n",
       "      <td>27.16</td>\n",
       "      <td>996.98</td>\n",
       "      <td>89.325</td>\n",
       "      <td>0.0</td>\n",
       "    </tr>\n",
       "    <tr>\n",
       "      <th>2022-06-19 23:15:00</th>\n",
       "      <td>0.0</td>\n",
       "      <td>7.0539</td>\n",
       "      <td>352.9153</td>\n",
       "      <td>27.19</td>\n",
       "      <td>997.26</td>\n",
       "      <td>89.325</td>\n",
       "      <td>0.0</td>\n",
       "    </tr>\n",
       "    <tr>\n",
       "      <th>2022-06-19 23:30:00</th>\n",
       "      <td>0.0</td>\n",
       "      <td>6.7206</td>\n",
       "      <td>350.5797</td>\n",
       "      <td>27.27</td>\n",
       "      <td>997.28</td>\n",
       "      <td>89.325</td>\n",
       "      <td>0.0</td>\n",
       "    </tr>\n",
       "    <tr>\n",
       "      <th>2022-06-19 23:45:00</th>\n",
       "      <td>0.0</td>\n",
       "      <td>7.0146</td>\n",
       "      <td>352.2164</td>\n",
       "      <td>27.27</td>\n",
       "      <td>996.74</td>\n",
       "      <td>89.325</td>\n",
       "      <td>0.0</td>\n",
       "    </tr>\n",
       "  </tbody>\n",
       "</table>\n",
       "</div>"
      ],
      "text/plain": [
       "                     Irradiance  Speed10  Direction10  Temper  Pressure  \\\n",
       "Datetime                                                                  \n",
       "2022-06-19 22:15:00         0.0   8.9275       5.9149   27.97    996.89   \n",
       "2022-06-19 22:30:00         0.0   8.9770       6.4600   27.96    996.97   \n",
       "2022-06-19 22:45:00         0.0   8.8735       7.3813   27.97    997.04   \n",
       "2022-06-19 23:00:00         0.0   7.6355     357.8234   27.16    996.98   \n",
       "2022-06-19 23:15:00         0.0   7.0539     352.9153   27.19    997.26   \n",
       "2022-06-19 23:30:00         0.0   6.7206     350.5797   27.27    997.28   \n",
       "2022-06-19 23:45:00         0.0   7.0146     352.2164   27.27    996.74   \n",
       "\n",
       "                     Humidity  Power(MW)  \n",
       "Datetime                                  \n",
       "2022-06-19 22:15:00    91.540        0.0  \n",
       "2022-06-19 22:30:00    91.780        0.0  \n",
       "2022-06-19 22:45:00    91.880        0.0  \n",
       "2022-06-19 23:00:00    89.325        0.0  \n",
       "2022-06-19 23:15:00    89.325        0.0  \n",
       "2022-06-19 23:30:00    89.325        0.0  \n",
       "2022-06-19 23:45:00    89.325        0.0  "
      ]
     },
     "execution_count": 38,
     "metadata": {},
     "output_type": "execute_result"
    }
   ],
   "source": [
    "gf_df_test_copy.tail(7)"
   ]
  },
  {
   "cell_type": "code",
   "execution_count": 39,
   "id": "61691c15",
   "metadata": {},
   "outputs": [
    {
     "name": "stderr",
     "output_type": "stream",
     "text": [
      "C:\\Users\\23966\\AppData\\Local\\Temp\\ipykernel_16952\\303592659.py:2: FutureWarning: The frame.append method is deprecated and will be removed from pandas in a future version. Use pandas.concat instead.\n",
      "  full_df_fea=dff.append(df_feaformm)\n"
     ]
    }
   ],
   "source": [
    "dff=gf_df_test_copy.tail(time_step)\n",
    "full_df_fea=dff.append(df_feaformm)\n",
    "full_df_fea.to_csv('full_df_fea.csv',encoding = 'utf-8')\n"
   ]
  },
  {
   "cell_type": "code",
   "execution_count": 40,
   "id": "b36cc8e4",
   "metadata": {},
   "outputs": [
    {
     "data": {
      "text/html": [
       "<div>\n",
       "<style scoped>\n",
       "    .dataframe tbody tr th:only-of-type {\n",
       "        vertical-align: middle;\n",
       "    }\n",
       "\n",
       "    .dataframe tbody tr th {\n",
       "        vertical-align: top;\n",
       "    }\n",
       "\n",
       "    .dataframe thead th {\n",
       "        text-align: right;\n",
       "    }\n",
       "</style>\n",
       "<table border=\"1\" class=\"dataframe\">\n",
       "  <thead>\n",
       "    <tr style=\"text-align: right;\">\n",
       "      <th></th>\n",
       "      <th>Irradiance</th>\n",
       "      <th>Speed10</th>\n",
       "      <th>Direction10</th>\n",
       "      <th>Temper</th>\n",
       "      <th>Pressure</th>\n",
       "      <th>Humidity</th>\n",
       "      <th>Power(MW)</th>\n",
       "    </tr>\n",
       "    <tr>\n",
       "      <th>Datetime</th>\n",
       "      <th></th>\n",
       "      <th></th>\n",
       "      <th></th>\n",
       "      <th></th>\n",
       "      <th></th>\n",
       "      <th></th>\n",
       "      <th></th>\n",
       "    </tr>\n",
       "  </thead>\n",
       "  <tbody>\n",
       "    <tr>\n",
       "      <th>2022-06-19 16:30:00</th>\n",
       "      <td>35.930736</td>\n",
       "      <td>1.281477</td>\n",
       "      <td>0.448554</td>\n",
       "      <td>1.045700</td>\n",
       "      <td>0.997751</td>\n",
       "      <td>0.968486</td>\n",
       "      <td>0.983803</td>\n",
       "    </tr>\n",
       "    <tr>\n",
       "      <th>2022-06-19 16:45:00</th>\n",
       "      <td>31.671861</td>\n",
       "      <td>1.284221</td>\n",
       "      <td>0.434999</td>\n",
       "      <td>1.041742</td>\n",
       "      <td>0.997671</td>\n",
       "      <td>0.971956</td>\n",
       "      <td>0.919830</td>\n",
       "    </tr>\n",
       "    <tr>\n",
       "      <th>2022-06-19 17:00:00</th>\n",
       "      <td>27.426840</td>\n",
       "      <td>1.276363</td>\n",
       "      <td>0.440242</td>\n",
       "      <td>1.038143</td>\n",
       "      <td>0.997641</td>\n",
       "      <td>0.974419</td>\n",
       "      <td>0.819836</td>\n",
       "    </tr>\n",
       "    <tr>\n",
       "      <th>2022-06-19 17:15:00</th>\n",
       "      <td>23.290909</td>\n",
       "      <td>1.267981</td>\n",
       "      <td>0.440640</td>\n",
       "      <td>1.034545</td>\n",
       "      <td>0.997611</td>\n",
       "      <td>0.978338</td>\n",
       "      <td>0.619842</td>\n",
       "    </tr>\n",
       "    <tr>\n",
       "      <th>2022-06-19 17:30:00</th>\n",
       "      <td>19.191342</td>\n",
       "      <td>1.263722</td>\n",
       "      <td>0.426803</td>\n",
       "      <td>1.030587</td>\n",
       "      <td>0.997581</td>\n",
       "      <td>0.983487</td>\n",
       "      <td>0.379894</td>\n",
       "    </tr>\n",
       "    <tr>\n",
       "      <th>...</th>\n",
       "      <td>...</td>\n",
       "      <td>...</td>\n",
       "      <td>...</td>\n",
       "      <td>...</td>\n",
       "      <td>...</td>\n",
       "      <td>...</td>\n",
       "      <td>...</td>\n",
       "    </tr>\n",
       "    <tr>\n",
       "      <th>2022-07-21 22:45:00</th>\n",
       "      <td>0.000000</td>\n",
       "      <td>0.598245</td>\n",
       "      <td>1.635199</td>\n",
       "      <td>0.996042</td>\n",
       "      <td>0.995687</td>\n",
       "      <td>0.905682</td>\n",
       "      <td>NaN</td>\n",
       "    </tr>\n",
       "    <tr>\n",
       "      <th>2022-07-21 23:00:00</th>\n",
       "      <td>0.000000</td>\n",
       "      <td>0.617545</td>\n",
       "      <td>1.647895</td>\n",
       "      <td>0.994962</td>\n",
       "      <td>0.996198</td>\n",
       "      <td>0.949790</td>\n",
       "      <td>NaN</td>\n",
       "    </tr>\n",
       "    <tr>\n",
       "      <th>2022-07-21 23:15:00</th>\n",
       "      <td>0.000000</td>\n",
       "      <td>0.518221</td>\n",
       "      <td>1.538831</td>\n",
       "      <td>0.983447</td>\n",
       "      <td>0.996419</td>\n",
       "      <td>0.949790</td>\n",
       "      <td>NaN</td>\n",
       "    </tr>\n",
       "    <tr>\n",
       "      <th>2022-07-21 23:30:00</th>\n",
       "      <td>0.000000</td>\n",
       "      <td>0.524934</td>\n",
       "      <td>1.585273</td>\n",
       "      <td>0.985246</td>\n",
       "      <td>0.996218</td>\n",
       "      <td>0.949790</td>\n",
       "      <td>NaN</td>\n",
       "    </tr>\n",
       "    <tr>\n",
       "      <th>2022-07-21 23:45:00</th>\n",
       "      <td>0.000000</td>\n",
       "      <td>0.519144</td>\n",
       "      <td>1.630511</td>\n",
       "      <td>0.983447</td>\n",
       "      <td>0.995778</td>\n",
       "      <td>0.949790</td>\n",
       "      <td>NaN</td>\n",
       "    </tr>\n",
       "  </tbody>\n",
       "</table>\n",
       "<p>702 rows × 7 columns</p>\n",
       "</div>"
      ],
      "text/plain": [
       "                     Irradiance   Speed10  Direction10    Temper  Pressure  \\\n",
       "Datetime                                                                     \n",
       "2022-06-19 16:30:00   35.930736  1.281477     0.448554  1.045700  0.997751   \n",
       "2022-06-19 16:45:00   31.671861  1.284221     0.434999  1.041742  0.997671   \n",
       "2022-06-19 17:00:00   27.426840  1.276363     0.440242  1.038143  0.997641   \n",
       "2022-06-19 17:15:00   23.290909  1.267981     0.440640  1.034545  0.997611   \n",
       "2022-06-19 17:30:00   19.191342  1.263722     0.426803  1.030587  0.997581   \n",
       "...                         ...       ...          ...       ...       ...   \n",
       "2022-07-21 22:45:00    0.000000  0.598245     1.635199  0.996042  0.995687   \n",
       "2022-07-21 23:00:00    0.000000  0.617545     1.647895  0.994962  0.996198   \n",
       "2022-07-21 23:15:00    0.000000  0.518221     1.538831  0.983447  0.996419   \n",
       "2022-07-21 23:30:00    0.000000  0.524934     1.585273  0.985246  0.996218   \n",
       "2022-07-21 23:45:00    0.000000  0.519144     1.630511  0.983447  0.995778   \n",
       "\n",
       "                     Humidity  Power(MW)  \n",
       "Datetime                                  \n",
       "2022-06-19 16:30:00  0.968486   0.983803  \n",
       "2022-06-19 16:45:00  0.971956   0.919830  \n",
       "2022-06-19 17:00:00  0.974419   0.819836  \n",
       "2022-06-19 17:15:00  0.978338   0.619842  \n",
       "2022-06-19 17:30:00  0.983487   0.379894  \n",
       "...                       ...        ...  \n",
       "2022-07-21 22:45:00  0.905682        NaN  \n",
       "2022-07-21 23:00:00  0.949790        NaN  \n",
       "2022-07-21 23:15:00  0.949790        NaN  \n",
       "2022-07-21 23:30:00  0.949790        NaN  \n",
       "2022-07-21 23:45:00  0.949790        NaN  \n",
       "\n",
       "[702 rows x 7 columns]"
      ]
     },
     "execution_count": 40,
     "metadata": {},
     "output_type": "execute_result"
    }
   ],
   "source": [
    "df_fea=pd.read_csv('full_df_fea.csv',index_col=[0])\n",
    "df_fea=simla(df,df_fea)\n",
    "df_fea"
   ]
  },
  {
   "cell_type": "code",
   "execution_count": 41,
   "id": "77bec53e",
   "metadata": {},
   "outputs": [],
   "source": [
    "df_fea_array=df_fea.values"
   ]
  },
  {
   "cell_type": "code",
   "execution_count": 42,
   "id": "65a4801a",
   "metadata": {},
   "outputs": [],
   "source": [
    "# 用最佳模型预测一下fea\n",
    "all_data_fea=[]\n",
    "for i in range (time_step,len(df_fea_array)) :\n",
    "                 data_x=[]\n",
    "                 data_x.append( df_fea_array[i-time_step :i , 0:df_fea.shape[1]])\n",
    "                 data_x=np.array(data_x)\n",
    "                 prediction=my_model.predict(data_x,verbose=0)\n",
    "                 if prediction<0:\n",
    "                    prediction=0\n",
    "                 all_data_fea.append(prediction)\n",
    "                 df_fea.iloc[i,-1]=prediction\n"
   ]
  },
  {
   "cell_type": "code",
   "execution_count": 43,
   "id": "6c5b6c96",
   "metadata": {},
   "outputs": [
    {
     "name": "stderr",
     "output_type": "stream",
     "text": [
      "C:\\Users\\23966\\AppData\\Local\\Temp\\ipykernel_16952\\1157379746.py:1: VisibleDeprecationWarning: Creating an ndarray from ragged nested sequences (which is a list-or-tuple of lists-or-tuples-or ndarrays with different lengths or shapes) is deprecated. If you meant to do this, you must specify 'dtype=object' when creating the ndarray.\n",
      "  plt.plot(range(len(all_data_fea)), np.array(all_data_fea).flatten(), label='Prediction')\n"
     ]
    },
    {
     "data": {
      "text/plain": [
       "[<matplotlib.lines.Line2D at 0x1ca9c757370>]"
      ]
     },
     "execution_count": 43,
     "metadata": {},
     "output_type": "execute_result"
    },
    {
     "data": {
      "image/png": "[encoded data removed]",
      "text/plain": [
       "<Figure size 432x288 with 1 Axes>"
      ]
     },
     "metadata": {
      "needs_background": "light"
     },
     "output_type": "display_data"
    }
   ],
   "source": [
    "plt.plot(range(len(all_data_fea)), np.array(all_data_fea).flatten(), label='Prediction')"
   ]
  },
  {
   "cell_type": "code",
   "execution_count": 44,
   "id": "b3a0d84d",
   "metadata": {},
   "outputs": [],
   "source": [
    "all_data_fea_Denormalization=Denormalization(df,pd.DataFrame(all_data_fea))\n"
   ]
  },
  {
   "cell_type": "code",
   "execution_count": 45,
   "id": "04889b6c",
   "metadata": {},
   "outputs": [
    {
     "data": {
      "text/plain": [
       "[<matplotlib.lines.Line2D at 0x1caa42867c0>]"
      ]
     },
     "execution_count": 45,
     "metadata": {},
     "output_type": "execute_result"
    },
    {
     "data": {
      "image/png": "[encoded data removed]",
      "text/plain": [
       "<Figure size 432x288 with 1 Axes>"
      ]
     },
     "metadata": {
      "needs_background": "light"
     },
     "output_type": "display_data"
    }
   ],
   "source": [
    "plt.plot(range(len(all_data_fea_Denormalization)), np.array(all_data_fea_Denormalization).flatten(), label='Prediction')"
   ]
  },
  {
   "cell_type": "code",
   "execution_count": 46,
   "id": "326c4de6",
   "metadata": {},
   "outputs": [],
   "source": [
    "gf_time=pd.read_csv('.\\\\data\\\\YC_Result_GF.csv')\n",
    "gf_time['Power(MW)']=all_data_fea_Denormalization.values\n",
    "gf_time.to_csv('feature_gf_power.csv',index=0)"
   ]
  },
  {
   "cell_type": "code",
   "execution_count": null,
   "id": "07de10c2",
   "metadata": {},
   "outputs": [],
   "source": []
  }
 ],
 "metadata": {
  "kernelspec": {
   "display_name": "Python 3 (ipykernel)",
   "language": "python",
   "name": "python3"
  },
  "language_info": {
   "codemirror_mode": {
    "name": "ipython",
    "version": 3
   },
   "file_extension": ".py",
   "mimetype": "text/x-python",
   "name": "python",
   "nbconvert_exporter": "python",
   "pygments_lexer": "ipython3",
   "version": "3.10.4"
  },
  "vscode": {
   "interpreter": {
    "hash": "6d02e8e8afb1353eb07cd047e8a612c1a35113e69e2894f34805f3a345365e9e"
   }
  }
 },
 "nbformat": 4,
 "nbformat_minor": 5
}
